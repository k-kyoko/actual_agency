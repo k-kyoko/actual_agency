{
 "cells": [
  {
   "cell_type": "markdown",
   "metadata": {},
   "source": [
    "# Import libraries & Open directory"
   ]
  },
  {
   "cell_type": "markdown",
   "metadata": {},
   "source": [
    "### Libraries"
   ]
  },
  {
   "cell_type": "code",
   "execution_count": 3,
   "metadata": {
    "collapsed": true
   },
   "outputs": [
    {
     "name": "stdout",
     "output_type": "stream",
     "text": [
      "\n",
      "Welcome to PyPhi!\n",
      "\n",
      "If you use PyPhi in your research, please cite the paper:\n",
      "\n",
      "  Mayner WGP, Marshall W, Albantakis L, Findlay G, Marchman R, Tononi G.\n",
      "  (2018). PyPhi: A toolbox for integrated information theory.\n",
      "  PLOS Computational Biology 14(7): e1006343.\n",
      "  https://doi.org/10.1371/journal.pcbi.1006343\n",
      "\n",
      "Documentation is available online (or with the built-in `help()` function):\n",
      "  https://pyphi.readthedocs.io\n",
      "\n",
      "To report issues, please use the issue tracker on the GitHub repository:\n",
      "  https://github.com/wmayner/pyphi\n",
      "\n",
      "For general discussion, you are welcome to join the pyphi-users group:\n",
      "  https://groups.google.com/forum/#!forum/pyphi-users\n",
      "\n",
      "To suppress this message, either:\n",
      "  - Set `WELCOME_OFF: true` in your `pyphi_config.yml` file, or\n",
      "  - Set the environment variable PYPHI_WELCOME_OFF to any value in your shell:\n",
      "        export PYPHI_WELCOME_OFF='yes'\n",
      "\n"
     ]
    }
   ],
   "source": [
    "import matplotlib.pyplot as plt\n",
    "import matplotlib.colors as colors\n",
    "import numpy as np\n",
    "import random\n",
    "from ipywidgets import interact, interact_manual\n",
    "import ipywidgets as widgets\n",
    "from IPython import display\n",
    "import time\n",
    "from pathlib import Path\n",
    "import pandas as pd\n",
    "import os\n",
    "import copy\n",
    "import networkx as nx\n",
    "import pickle\n",
    "import sys\n",
    "from scipy import stats\n",
    "%matplotlib inline\n",
    "\n",
    "# change directory\n",
    "\n",
    "os.chdir(\"/home/kyoko/Develop/ActualCausation/MABE/MABE_contents/actual_agency\")\n",
    "\n",
    "# import packages -- pyphi\n",
    "\n",
    "from pyanimats import *\n",
    "from pyTPM import *\n",
    "import actual_agency as agency\n",
    "import pyphi\n",
    "from pyphi import actual, config, Direction\n",
    "\n",
    "pyphi.config.VALIDATE_SUBSYSTEM_STATES = False\n",
    "pyphi.config.PARTITION_TYPE = 'TRI'"
   ]
  },
  {
   "cell_type": "code",
   "execution_count": 4,
   "metadata": {},
   "outputs": [],
   "source": [
    "# Change directory back to Example directory, now in MABE_contents\n",
    "os.chdir(\"../Experiments/190822_7_15_63_31_h6\")"
   ]
  },
  {
   "cell_type": "code",
   "execution_count": 5,
   "metadata": {},
   "outputs": [],
   "source": [
    "%load_ext autoreload\n",
    "%autoreload 2\n",
    "%aimport pyTPM, pyanimats, actual_agency"
   ]
  },
  {
   "cell_type": "markdown",
   "metadata": {},
   "source": [
    "# setting"
   ]
  },
  {
   "cell_type": "code",
   "execution_count": 9,
   "metadata": {},
   "outputs": [],
   "source": [
    "# defining some parameters to use \n",
    "generations = 30000\n",
    "n_agents = int(generations/500.+1)\n",
    "n_runs = 10\n",
    "n_trials = 64\n",
    "\n",
    "run = 1 # 0 ~ n_runs-1\n",
    "agent = 60 # saved generation\n",
    "trial = 60 # 0~63\n",
    "transition = 30 # state time 0~34"
   ]
  },
  {
   "cell_type": "code",
   "execution_count": 10,
   "metadata": {},
   "outputs": [],
   "source": [
    "# Get Line-of-descent (LOD) data from MABE output\n",
    "with open('190822_7156331_h6_LOD_data.pkl','rb') as f:\n",
    "    LOD_data = pickle.load(f)"
   ]
  },
  {
   "cell_type": "code",
   "execution_count": 11,
   "metadata": {},
   "outputs": [
    {
     "name": "stdout",
     "output_type": "stream",
     "text": [
      "/home/kyoko/デスクトップ/Develop/ActualCausation/MABE/MABE_contents/Experiments/190822_7_15_63_31_h6\n"
     ]
    }
   ],
   "source": [
    "cwd = os.getcwd()  # Get the current working directory (cwd)\n",
    "files = os.listdir(cwd)  # Get all the files in that directory\n",
    "print(cwd)"
   ]
  },
  {
   "cell_type": "markdown",
   "metadata": {},
   "source": [
    "# Get fitness"
   ]
  },
  {
   "cell_type": "code",
   "execution_count": null,
   "metadata": {},
   "outputs": [],
   "source": [
    "# add fitness to the LOD data structure\n",
    "\n",
    "for n in range(n_runs):\n",
    "    LOD_data[n]['fitness'] = (LOD_data[n]['correct_AVE']\n",
    "                               /(LOD_data[n]['correct_AVE']+LOD_data[n]['incorrect_AVE']))"
   ]
  },
  {
   "cell_type": "markdown",
   "metadata": {},
   "source": [
    "# Get genome data"
   ]
  },
  {
   "cell_type": "code",
   "execution_count": null,
   "metadata": {},
   "outputs": [],
   "source": []
  },
  {
   "cell_type": "code",
   "execution_count": 13,
   "metadata": {},
   "outputs": [],
   "source": [
    "# Get the genome from our output\n",
    "with open('190822_7156331_h6_genome.pkl','rb') as f:\n",
    "    all_genomes = pickle.load(f)"
   ]
  },
  {
   "cell_type": "code",
   "execution_count": 14,
   "metadata": {},
   "outputs": [],
   "source": [
    "# we can pick the genome of one agent and parse it (make it readable for our scripts) \n",
    "genome = agency.get_genome(all_genomes, run, agent)\n",
    "\n",
    "# from the genome we can reconstruct the TPM (transition probability matrix) and CM (connectivity matrix)\n",
    "TPM, TPM_gates, cm = genome2TPM(genome, n_nodes=10, n_sensors=2, n_motors=2, gate_type='deterministic',states_convention='loli',remove_sensor_motor_effects=True)\n"
   ]
  },
  {
   "cell_type": "markdown",
   "metadata": {},
   "source": [
    "# Get activity data "
   ]
  },
  {
   "cell_type": "code",
   "execution_count": 15,
   "metadata": {},
   "outputs": [],
   "source": [
    "# First get the data from our MABE output\n",
    "with open('190822_7156331_h6_activity.pkl','rb') as f:\n",
    "    activity = pickle.load(f)"
   ]
  },
  {
   "cell_type": "code",
   "execution_count": 16,
   "metadata": {},
   "outputs": [
    {
     "name": "stdout",
     "output_type": "stream",
     "text": [
      "Creating activity matrix from MABE output...\n",
      "Creating activity matrix from MABE output...\n",
      "Creating activity matrix from MABE output...\n",
      "Creating activity matrix from MABE output...\n",
      "Creating activity matrix from MABE output...\n",
      "Creating activity matrix from MABE output...\n",
      "Creating activity matrix from MABE output...\n",
      "Creating activity matrix from MABE output...\n",
      "Creating activity matrix from MABE output...\n",
      "Creating activity matrix from MABE output...\n"
     ]
    }
   ],
   "source": [
    "# reformat the activity to a single list for each trial\n",
    "brain_activity = []\n",
    "for r in range(n_runs):\n",
    "    brain_activity.append(agency.getBrainActivity(activity[r],n_agents=n_agents, n_nodes=10, n_hidden=6))"
   ]
  },
  {
   "cell_type": "markdown",
   "metadata": {},
   "source": [
    "## state"
   ]
  },
  {
   "cell_type": "code",
   "execution_count": 21,
   "metadata": {},
   "outputs": [],
   "source": [
    "# find the most frequent state\n",
    "from collections import Counter\n",
    "\n",
    "def counting3(data):\n",
    "    c = Counter(data)\n",
    "    freq_scores = c.most_common()\n",
    "    third_count = freq_scores[2][1] #結局3つ目までとるので問題は3つ目のみ\n",
    "    \n",
    "    modes = [freq_scores[0][:], freq_scores[1][:]]\n",
    "    for p in range(2,len(freq_scores)): #出現回数を比較、追加\n",
    "        if freq_scores[p][1] == third_count:\n",
    "            modes.append(freq_scores[p])\n",
    "    return(modes)\n",
    "\n",
    "def int2binary(n,nodes):\n",
    "    holi = [int(x) for x in bin(n)[2:].zfill(nodes)]\n",
    "    holi.reverse()\n",
    "    return tuple(holi)"
   ]
  },
  {
   "cell_type": "code",
   "execution_count": 22,
   "metadata": {},
   "outputs": [
    {
     "name": "stdout",
     "output_type": "stream",
     "text": [
      "[(164, 9), (416, 8), (484, 7)]\n"
     ]
    }
   ],
   "source": [
    "dec = []\n",
    "\n",
    "#for i in range(0, n_runs): #all runs\n",
    "actarr = brain_activity[run][agent][trial]\n",
    "    \n",
    "for j in range(0,35): # 2進法 -> 10進法変換\n",
    "    num = 0\n",
    "    for k in range(0,10):\n",
    "        num = num + (2 ** k) * actarr[j][k] \n",
    "        num = int(num) # 2進法への変換のためfloat -> int型\n",
    "    dec.append(num)\n",
    "\n",
    "# 10進法の数値の入ったarray(数, 回数)\n",
    "c = Counter(dec)\n",
    "prestate = counting3(dec)\n",
    "print(prestate)"
   ]
  },
  {
   "cell_type": "code",
   "execution_count": 20,
   "metadata": {},
   "outputs": [],
   "source": [
    "state = []\n",
    "for i in range(len(prestate)):\n",
    "    state.append(int2binary(prestate[i][0],10))"
   ]
  },
  {
   "cell_type": "markdown",
   "metadata": {},
   "source": [
    "## network from cm, TPM"
   ]
  },
  {
   "cell_type": "code",
   "execution_count": 24,
   "metadata": {},
   "outputs": [],
   "source": [
    "# define network for this animat\n",
    "network = pyphi.network.Network(np.array(TPM), cm=np.array(cm), \n",
    "            node_labels=tuple(['S1','S2','M1','M2','H1','H2','H3','H4','H5','H6']), purview_cache=None)"
   ]
  },
  {
   "cell_type": "markdown",
   "metadata": {},
   "source": [
    "# Culculate phi"
   ]
  },
  {
   "cell_type": "code",
   "execution_count": 25,
   "metadata": {},
   "outputs": [
    {
     "name": "stdout",
     "output_type": "stream",
     "text": [
      "state0's phi is 0\n",
      "state1's phi is 0\n",
      "state2's phi is 0\n"
     ]
    }
   ],
   "source": [
    "# all network of animats; if there is a node not has input and output -> 0\n",
    "\n",
    "for i in range(len(state)):\n",
    "    subsystem = pyphi.Subsystem(network, state[i], nodes=(4,5,6,7,8,9))\n",
    "    Phi = pyphi.compute.phi(subsystem)\n",
    "    print(\"state%d's phi is %d\"%(i, Phi))"
   ]
  },
  {
   "cell_type": "code",
   "execution_count": 27,
   "metadata": {},
   "outputs": [
    {
     "name": "stderr",
     "output_type": "stream",
     "text": [
      "Finding complexes:   0%|          | 0/63 [00:00<?, ?it/s]\n",
      "Computing concepts:   0%|          | 0/31 [00:00<?, ?it/s]\u001b[A\n",
      "Computing concepts:   3%|▎         | 1/31 [00:00<00:03,  7.63it/s]\u001b[A\n",
      "Computing concepts:  19%|█▉        | 6/31 [00:00<00:02,  9.85it/s]\u001b[A\n",
      "Computing concepts:  29%|██▉       | 9/31 [00:00<00:01, 11.66it/s]\u001b[A\n",
      "Computing concepts:  39%|███▊      | 12/31 [00:00<00:01, 14.28it/s]\u001b[A\n",
      "Computing concepts:  45%|████▌     | 14/31 [00:00<00:01, 15.54it/s]\u001b[A\n",
      "Computing concepts:  52%|█████▏    | 16/31 [00:00<00:01, 14.92it/s]\u001b[A\n",
      "Computing concepts:  58%|█████▊    | 18/31 [00:01<00:01, 11.65it/s]\u001b[A\n",
      "Computing concepts:  68%|██████▊   | 21/31 [00:01<00:00, 14.05it/s]\u001b[A\n",
      "Computing concepts:  74%|███████▍  | 23/31 [00:01<00:00, 12.04it/s]\u001b[A\n",
      "Computing concepts:  81%|████████  | 25/31 [00:01<00:00,  9.61it/s]\u001b[A\n",
      "Computing concepts:  87%|████████▋ | 27/31 [00:02<00:00,  8.24it/s]\u001b[A\n",
      "Computing concepts:  97%|█████████▋| 30/31 [00:02<00:00, 10.37it/s]\u001b[A\n",
      "                                                                   \u001b[A\n",
      "Evaluating Φ cuts:   0%|          | 0/30 [00:00<?, ?it/s]\u001b[A\n",
      "Evaluating Φ cuts:   3%|▎         | 1/30 [00:01<00:55,  1.91s/it]\u001b[A\n",
      "Evaluating Φ cuts:   7%|▋         | 2/30 [00:02<00:38,  1.39s/it]\u001b[A\n",
      "Evaluating Φ cuts:  13%|█▎        | 4/30 [00:03<00:29,  1.13s/it]\u001b[A\n",
      "Evaluating Φ cuts:  17%|█▋        | 5/30 [00:03<00:21,  1.15it/s]\u001b[A\n",
      "Finding complexes:   6%|▋         | 4/63 [00:05<01:23,  1.42s/it]\u001b[A\n",
      "Computing concepts:   0%|          | 0/15 [00:00<?, ?it/s]\u001b[A\n",
      "Computing concepts:   7%|▋         | 1/15 [00:00<00:02,  7.00it/s]\u001b[A\n",
      "Computing concepts:  33%|███▎      | 5/15 [00:00<00:01,  9.07it/s]\u001b[A\n",
      "Computing concepts:  60%|██████    | 9/15 [00:00<00:00, 11.41it/s]\u001b[A\n",
      "Computing concepts:  80%|████████  | 12/15 [00:00<00:00, 13.95it/s]\u001b[A\n",
      "Computing concepts:  93%|█████████▎| 14/15 [00:00<00:00, 14.18it/s]\u001b[A\n",
      "                                                                   \u001b[A\n",
      "Evaluating Φ cuts:   0%|          | 0/14 [00:00<?, ?it/s]\u001b[A\n",
      "Evaluating Φ cuts:   7%|▋         | 1/14 [00:00<00:11,  1.16it/s]\u001b[A\n",
      "Evaluating Φ cuts:  21%|██▏       | 3/14 [00:00<00:06,  1.60it/s]\u001b[A\n",
      "Evaluating Φ cuts:  29%|██▊       | 4/14 [00:01<00:04,  2.03it/s]\u001b[A\n",
      "Finding complexes:  16%|█▌        | 10/63 [00:07<00:57,  1.09s/it][A\n",
      "Computing concepts:   0%|          | 0/15 [00:00<?, ?it/s]\u001b[A\n",
      "Computing concepts:   7%|▋         | 1/15 [00:00<00:02,  6.96it/s]\u001b[A\n",
      "Computing concepts:  33%|███▎      | 5/15 [00:00<00:01,  9.13it/s]\u001b[A\n",
      "Computing concepts:  60%|██████    | 9/15 [00:00<00:00, 11.68it/s]\u001b[A\n",
      "Computing concepts:  73%|███████▎  | 11/15 [00:00<00:00, 12.47it/s]\u001b[A\n",
      "Computing concepts:  87%|████████▋ | 13/15 [00:00<00:00, 13.22it/s]\u001b[A\n",
      "                                                                   \u001b[A\n",
      "Evaluating Φ cuts:   0%|          | 0/14 [00:00<?, ?it/s]\u001b[A\n",
      "Evaluating Φ cuts:   7%|▋         | 1/14 [00:00<00:12,  1.07it/s]\u001b[A\n",
      "Evaluating Φ cuts:  29%|██▊       | 4/14 [00:01<00:06,  1.48it/s]\u001b[A\n",
      "Finding complexes:  21%|██        | 13/63 [00:09<00:48,  1.04it/s][A\n",
      "Computing concepts:   0%|          | 0/15 [00:00<?, ?it/s]\u001b[A\n",
      "Computing concepts:   7%|▋         | 1/15 [00:00<00:01,  7.98it/s]\u001b[A\n",
      "Computing concepts:  33%|███▎      | 5/15 [00:00<00:00, 10.30it/s]\u001b[A\n",
      "Computing concepts:  53%|█████▎    | 8/15 [00:00<00:00, 12.48it/s]\u001b[A\n",
      "Computing concepts:  73%|███████▎  | 11/15 [00:00<00:00, 14.45it/s]\u001b[A\n",
      "Computing concepts:  93%|█████████▎| 14/15 [00:00<00:00, 16.45it/s]\u001b[A\n",
      "                                                                   \u001b[A\n",
      "Evaluating Φ cuts:   0%|          | 0/14 [00:00<?, ?it/s]\u001b[A\n",
      "Evaluating Φ cuts:   7%|▋         | 1/14 [00:00<00:12,  1.03it/s]\u001b[A\n",
      "Evaluating Φ cuts:  29%|██▊       | 4/14 [00:01<00:07,  1.43it/s]\u001b[A\n",
      "Evaluating Φ cuts:  43%|████▎     | 6/14 [00:01<00:04,  1.95it/s]\u001b[A\n",
      "Finding complexes:  25%|██▌       | 16/63 [00:11<00:41,  1.14it/s][A\n",
      "Computing concepts:   0%|          | 0/15 [00:00<?, ?it/s]\u001b[A\n",
      "Computing concepts:   7%|▋         | 1/15 [00:00<00:01,  7.02it/s]\u001b[A\n",
      "Computing concepts:  33%|███▎      | 5/15 [00:00<00:01,  9.30it/s]\u001b[A\n",
      "Computing concepts:  60%|██████    | 9/15 [00:00<00:00, 11.96it/s]\u001b[A\n",
      "Computing concepts:  93%|█████████▎| 14/15 [00:00<00:00, 15.10it/s]\u001b[A\n",
      "Finding complexes:  32%|███▏      | 20/63 [00:12<00:28,  1.53it/s] \u001b[A\n",
      "Computing concepts:   0%|          | 0/7 [00:00<?, ?it/s]\u001b[A\n",
      "Computing concepts:  14%|█▍        | 1/7 [00:00<00:00,  7.28it/s]\u001b[A\n",
      "Computing concepts:  71%|███████▏  | 5/7 [00:00<00:00,  9.47it/s]\u001b[A\n",
      "                                                                 \u001b[A\n",
      "Evaluating Φ cuts:   0%|          | 0/6 [00:00<?, ?it/s]\u001b[A\n",
      "Evaluating Φ cuts:  17%|█▋        | 1/6 [00:00<00:02,  2.06it/s]\u001b[A\n",
      "Finding complexes:  41%|████▏     | 26/63 [00:13<00:18,  1.98it/s]A\n",
      "Computing concepts:   0%|          | 0/7 [00:00<?, ?it/s]\u001b[A\n",
      "Computing concepts:  14%|█▍        | 1/7 [00:00<00:00,  7.57it/s]\u001b[A\n",
      "Computing concepts:  71%|███████▏  | 5/7 [00:00<00:00,  9.91it/s]\u001b[A\n",
      "                                                                 \u001b[A\n",
      "Evaluating Φ cuts:   0%|          | 0/6 [00:00<?, ?it/s]\u001b[A\n",
      "Evaluating Φ cuts:  17%|█▋        | 1/6 [00:00<00:02,  1.81it/s]\u001b[A\n",
      "Evaluating Φ cuts: 100%|██████████| 6/6 [00:00<00:00,  2.55it/s]\u001b[A\n",
      "Finding complexes:  46%|████▌     | 29/63 [00:14<00:15,  2.21it/s]A\n",
      "Computing concepts:   0%|          | 0/7 [00:00<?, ?it/s]\u001b[A\n",
      "Computing concepts:  14%|█▍        | 1/7 [00:00<00:00,  6.76it/s]\u001b[A\n",
      "Computing concepts:  71%|███████▏  | 5/7 [00:00<00:00,  8.97it/s]\u001b[A\n",
      "                                                                 \u001b[A\n",
      "Evaluating Φ cuts:   0%|          | 0/6 [00:00<?, ?it/s]\u001b[A\n",
      "Evaluating Φ cuts:  17%|█▋        | 1/6 [00:00<00:02,  1.75it/s]\u001b[A\n",
      "Evaluating Φ cuts: 100%|██████████| 6/6 [00:00<00:00,  2.46it/s]\u001b[A\n",
      "Finding complexes:  51%|█████     | 32/63 [00:15<00:13,  2.38it/s]A\n",
      "Computing concepts:   0%|          | 0/7 [00:00<?, ?it/s]\u001b[A\n",
      "Computing concepts:  14%|█▍        | 1/7 [00:00<00:00,  6.63it/s]\u001b[A\n",
      "Computing concepts:  86%|████████▌ | 6/7 [00:00<00:00,  8.88it/s]\u001b[A\n",
      "Finding complexes:  56%|█████▌    | 35/63 [00:15<00:09,  3.07it/s][A\n",
      "Computing concepts:   0%|          | 0/7 [00:00<?, ?it/s]\u001b[A\n",
      "Computing concepts:  14%|█▍        | 1/7 [00:00<00:00,  7.20it/s]\u001b[A\n",
      "Computing concepts:  86%|████████▌ | 6/7 [00:00<00:00,  9.59it/s]\u001b[A\n",
      "Finding complexes:  60%|██████    | 38/63 [00:15<00:06,  3.90it/s][A\n",
      "Computing concepts:   0%|          | 0/7 [00:00<?, ?it/s]\u001b[A\n",
      "Computing concepts:  14%|█▍        | 1/7 [00:00<00:00,  7.30it/s]\u001b[A\n",
      "Computing concepts:  86%|████████▌ | 6/7 [00:00<00:00,  9.77it/s]\u001b[A\n",
      "Finding complexes:  65%|██████▌   | 41/63 [00:16<00:04,  4.78it/s][A\n",
      "Computing concepts:   0%|          | 0/3 [00:00<?, ?it/s]\u001b[A\n",
      "Computing concepts:  33%|███▎      | 1/3 [00:00<00:00,  7.44it/s]\u001b[A\n",
      "                                                                 \u001b[A\n",
      "Evaluating Φ cuts:   0%|          | 0/2 [00:00<?, ?it/s]\u001b[A\n",
      "Evaluating Φ cuts:  50%|█████     | 1/2 [00:00<00:00,  4.30it/s]\u001b[A\n",
      "Finding complexes:  75%|███████▍  | 47/63 [00:16<00:02,  5.89it/s]A\n",
      "Computing concepts:   0%|          | 0/3 [00:00<?, ?it/s]\u001b[A\n",
      "Computing concepts:  33%|███▎      | 1/3 [00:00<00:00,  8.18it/s]\u001b[A\n",
      "Finding complexes:  81%|████████  | 51/63 [00:16<00:01,  7.62it/s][A\n",
      "Computing concepts:   0%|          | 0/3 [00:00<?, ?it/s]\u001b[A\n",
      "Computing concepts:  33%|███▎      | 1/3 [00:00<00:00,  6.75it/s]\u001b[A\n",
      "Finding complexes:  86%|████████▌ | 54/63 [00:16<00:01,  8.55it/s][A\n",
      "Computing concepts:   0%|          | 0/3 [00:00<?, ?it/s]\u001b[A\n",
      "Computing concepts:  33%|███▎      | 1/3 [00:00<00:00,  7.28it/s]\u001b[A\n",
      "                                                                  [A\r"
     ]
    }
   ],
   "source": [
    "# all possible cut. Are there any irreducible structures within the animat?\n",
    "complexes = pyphi.compute.network.complexes(network,state[0])\n"
   ]
  },
  {
   "cell_type": "code",
   "execution_count": 31,
   "metadata": {},
   "outputs": [
    {
     "name": "stdout",
     "output_type": "stream",
     "text": [
      "all phis are [0.875]\n",
      "subsystems are Subsystem(H1, H6)\n"
     ]
    }
   ],
   "source": [
    "print('all phis are',[complexes[i].phi for i in range(len(complexes))])\n",
    "print('subsystems are', complexes[0].subsystem)"
   ]
  },
  {
   "cell_type": "markdown",
   "metadata": {},
   "source": [
    "# Structure of nodes"
   ]
  },
  {
   "cell_type": "code",
   "execution_count": 32,
   "metadata": {},
   "outputs": [
    {
     "name": "stderr",
     "output_type": "stream",
     "text": [
      "/home/kyoko/.anyenv/envs/pyenv/versions/anaconda3-5.1.0/envs/pyphikit/lib/python3.6/site-packages/networkx/drawing/nx_pylab.py:579: MatplotlibDeprecationWarning: \n",
      "The iterable function was deprecated in Matplotlib 3.1 and will be removed in 3.3. Use np.iterable instead.\n",
      "  if not cb.iterable(width):\n",
      "/home/kyoko/.anyenv/envs/pyenv/versions/anaconda3-5.1.0/envs/pyphikit/lib/python3.6/site-packages/networkx/drawing/nx_pylab.py:676: MatplotlibDeprecationWarning: \n",
      "The iterable function was deprecated in Matplotlib 3.1 and will be removed in 3.3. Use np.iterable instead.\n",
      "  if cb.iterable(node_size):  # many node sizes\n"
     ]
    },
    {
     "data": {
      "image/png": "[encoded data removed]",
      "text/plain": [
       "<Figure size 432x288 with 1 Axes>"
      ]
     },
     "metadata": {},
     "output_type": "display_data"
    }
   ],
   "source": [
    "agency.plot_brain(cm)"
   ]
  },
  {
   "cell_type": "code",
   "execution_count": null,
   "metadata": {},
   "outputs": [],
   "source": []
  }
 ],
 "metadata": {
  "kernelspec": {
   "display_name": "Python 3",
   "language": "python",
   "name": "python3"
  },
  "language_info": {
   "codemirror_mode": {
    "name": "ipython",
    "version": 3
   },
   "file_extension": ".py",
   "mimetype": "text/x-python",
   "name": "python",
   "nbconvert_exporter": "python",
   "pygments_lexer": "ipython3",
   "version": "3.6.8"
  }
 },
 "nbformat": 4,
 "nbformat_minor": 2
}
