{
 "cells": [
  {
   "cell_type": "markdown",
   "metadata": {},
   "source": [
    "# 一回でいい"
   ]
  },
  {
   "cell_type": "code",
   "execution_count": 14,
   "metadata": {},
   "outputs": [
    {
     "name": "stdout",
     "output_type": "stream",
     "text": [
      "The autoreload extension is already loaded. To reload it, use:\n",
      "  %reload_ext autoreload\n"
     ]
    }
   ],
   "source": [
    "# import\n",
    "import matplotlib.pyplot as plt\n",
    "import matplotlib.colors as colors\n",
    "import numpy as np\n",
    "import random\n",
    "from ipywidgets import interact, interact_manual\n",
    "import ipywidgets as widgets\n",
    "from IPython import display\n",
    "import time\n",
    "from pathlib import Path\n",
    "import pandas as pd\n",
    "import os\n",
    "import copy\n",
    "import networkx as nx\n",
    "import pickle\n",
    "import sys\n",
    "from collections import Counter\n",
    "from scipy import stats\n",
    "%matplotlib inline\n",
    "\n",
    "# change directory\n",
    "\n",
    "os.chdir(\"/home/kyoko/Develop/ActualCausation/MABE/MABE_contents/actual_agency\")\n",
    "\n",
    "# import packages -- pyphi\n",
    "\n",
    "from pyanimats import *\n",
    "from pyTPM import *\n",
    "import actual_agency as agency\n",
    "import pyphi\n",
    "from pyphi import actual, config, Direction\n",
    "\n",
    "pyphi.config.VALIDATE_SUBSYSTEM_STATES = False\n",
    "pyphi.config.PARTITION_TYPE = 'TRI'\n",
    "\n",
    "# Change directory back to Example directory, now in MABE_contents\n",
    "os.chdir(\"../Experiments/analysis_now\")\n",
    "\n",
    "%load_ext autoreload\n",
    "%autoreload 2\n",
    "%aimport pyTPM, pyanimats, actual_agency\n",
    "\n",
    "# make an array\n",
    "datas = np.zeros(3000).reshape(250, 12)\n",
    "\n",
    "prearr = np.sort(np.tile(np.arange(1,11), (1,5))).reshape(50, 1) \n",
    "runarr = np.tile(prearr.copy(), (5,1)) #Runs\n",
    "hidarr = np.sort(np.tile(np.arange(2,7), (1,50))).reshape(250, 1) #Hidden nodes\n",
    "stsarr = np.tile(np.arange(1,6), (1,50)).reshape(250, 1)\n",
    "\n",
    "datas[:,0:1] = hidarr\n",
    "datas[:,1:2] = runarr\n",
    "datas[:,2:3] = stsarr\n",
    "\n",
    "# defining some parameters to use \n",
    "generations = 30000\n",
    "n_agents = int(generations/500.+1)\n",
    "n_runs = 10\n",
    "n_trials = 64\n",
    "n_data = 5\n",
    "\n",
    "agent = 60 # saved generation\n",
    "trial = 60 # 0~63\n",
    "run = 1 # 0 ~ n_runs-1 change only this\n",
    "\n",
    "\n",
    "# Get Line-of-descent (LOD) data from MABE output\n",
    "    \n",
    "LOD_data = ['190822_7156331_h2_LOD_data.pkl','190822_7156331_h3_LOD_data.pkl','190822_7156331_h4_LOD_data.pkl','190822_7156331_h5_LOD_data.pkl','190822_7156331_h6_LOD_data.pkl']\n",
    "LODs = []    \n",
    "for i in range(len(LOD_data)):\n",
    "    with open(LOD_data[i],'rb') as f:\n",
    "        LODs.append(pickle.load(f))\n",
    "\n",
    "# Get genome data\n",
    "all_genomes = ['190822_7156331_h2_genome.pkl','190822_7156331_h3_genome.pkl','190822_7156331_h4_genome.pkl','190822_7156331_h5_genome.pkl','190822_7156331_h6_genome.pkl']\n",
    "genomes = []\n",
    "for i in range(len(all_genomes)):\n",
    "    with open(all_genomes[i],'rb') as f:\n",
    "        genomes.append(pickle.load(f))\n",
    "\n",
    "\n",
    "# Get activity data\n",
    "all_activity = ['190822_7156331_h2_activity.pkl','190822_7156331_h3_activity.pkl','190822_7156331_h4_activity.pkl','190822_7156331_h5_activity.pkl','190822_7156331_h6_activity.pkl']\n",
    "activities = []\n",
    "for i in range(len(all_activity)):\n",
    "    with open(all_activity[i],'rb') as f:\n",
    "        activities.append(pickle.load(f))\n",
    "\n",
    "\n",
    "# Define functions to find states\n",
    "# find the most frequent state\n",
    "\n",
    "\n",
    "def counting3(data):\n",
    "    c = Counter(data)\n",
    "    freq_scores = c.most_common()\n",
    "    if len(freq_scores) < 3:\n",
    "        return(freq_scores)\n",
    "    else:\n",
    "        third_count = freq_scores[2][1]\n",
    "    \n",
    "        modes = [freq_scores[0][:], freq_scores[1][:]]\n",
    "        for p in range(2,len(freq_scores)): #出現回数を比較、追加\n",
    "            if freq_scores[p][1] == third_count and p < 5:\n",
    "                modes.append(freq_scores[p])\n",
    "        return(modes)\n",
    "\n",
    "# change num(10) to bin(2)\n",
    "def int2binary(n,nodes):\n",
    "    holi = [int(x) for x in bin(n)[2:].zfill(nodes)]\n",
    "    holi.reverse()\n",
    "    return tuple(holi)"
   ]
  },
  {
   "cell_type": "code",
   "execution_count": 5,
   "metadata": {
    "collapsed": true
   },
   "outputs": [
    {
     "name": "stdout",
     "output_type": "stream",
     "text": [
      "Creating activity matrix from MABE output...\n",
      "Creating activity matrix from MABE output...\n",
      "Creating activity matrix from MABE output...\n",
      "Creating activity matrix from MABE output...\n",
      "Creating activity matrix from MABE output...\n",
      "Creating activity matrix from MABE output...\n",
      "Creating activity matrix from MABE output...\n",
      "Creating activity matrix from MABE output...\n",
      "Creating activity matrix from MABE output...\n",
      "Creating activity matrix from MABE output...\n",
      "Creating activity matrix from MABE output...\n",
      "Creating activity matrix from MABE output...\n",
      "Creating activity matrix from MABE output...\n",
      "Creating activity matrix from MABE output...\n",
      "Creating activity matrix from MABE output...\n",
      "Creating activity matrix from MABE output...\n",
      "Creating activity matrix from MABE output...\n",
      "Creating activity matrix from MABE output...\n",
      "Creating activity matrix from MABE output...\n",
      "Creating activity matrix from MABE output...\n",
      "Creating activity matrix from MABE output...\n",
      "Creating activity matrix from MABE output...\n",
      "Creating activity matrix from MABE output...\n",
      "Creating activity matrix from MABE output...\n",
      "Creating activity matrix from MABE output...\n",
      "Creating activity matrix from MABE output...\n",
      "Creating activity matrix from MABE output...\n",
      "Creating activity matrix from MABE output...\n",
      "Creating activity matrix from MABE output...\n",
      "Creating activity matrix from MABE output...\n",
      "Creating activity matrix from MABE output...\n",
      "Creating activity matrix from MABE output...\n",
      "Creating activity matrix from MABE output...\n",
      "Creating activity matrix from MABE output...\n",
      "Creating activity matrix from MABE output...\n",
      "Creating activity matrix from MABE output...\n",
      "Creating activity matrix from MABE output...\n",
      "Creating activity matrix from MABE output...\n",
      "Creating activity matrix from MABE output...\n",
      "Creating activity matrix from MABE output...\n",
      "Creating activity matrix from MABE output...\n",
      "Creating activity matrix from MABE output...\n",
      "Creating activity matrix from MABE output...\n",
      "Creating activity matrix from MABE output...\n",
      "Creating activity matrix from MABE output...\n",
      "Creating activity matrix from MABE output...\n",
      "Creating activity matrix from MABE output...\n",
      "Creating activity matrix from MABE output...\n",
      "Creating activity matrix from MABE output...\n",
      "Creating activity matrix from MABE output...\n"
     ]
    }
   ],
   "source": [
    "brain_activity = []\n",
    "# culculate brain activity the first\n",
    "for data in range(n_data):\n",
    "    n_hnodes = data+2\n",
    "    for n in range(n_runs):\n",
    "        place = 5*data + n\n",
    "    \n",
    "        brain_activity.append(agency.getBrainActivity(activities[data][n],n_agents=n_agents, n_nodes=n_hnodes+4, n_hidden=n_hnodes))\n",
    "        actarr = brain_activity[place][agent][trial]\n",
    "\n",
    "        # TPM, TPM_gate, cm\n",
    "       \n",
    "        genome.append(agency.get_genome(genomes[data], n, agent))\n",
    "#print(len(genome[4]))\n",
    "\n",
    "        a, b, c = genome2TPM(genome[place], n_nodes=n_hnodes+4, n_sensors=2, n_motors=2, gate_type='deterministic',states_convention='loli',remove_sensor_motor_effects=True)\n",
    "        TPM.append(a)\n",
    "        TPM_gates.append(b)\n",
    "        cm.append(c) # right?"
   ]
  },
  {
   "cell_type": "code",
   "execution_count": 15,
   "metadata": {},
   "outputs": [
    {
     "ename": "ValueError",
     "evalue": "Invalid TPM: Must be either 2-dimensional or multidimensional. See the documentation on TPM conventions and the `pyphi.Network` object for more information on TPM forms.",
     "output_type": "error",
     "traceback": [
      "\u001b[0;31m--------------------------------------------------------------------\u001b[0m",
      "\u001b[0;31mValueError\u001b[0m                         Traceback (most recent call last)",
      "\u001b[0;32m<ipython-input-15-6354b4a98b9e>\u001b[0m in \u001b[0;36m<module>\u001b[0;34m\u001b[0m\n\u001b[1;32m     53\u001b[0m         \u001b[0;31m# define network for this animat change\u001b[0m\u001b[0;34m\u001b[0m\u001b[0;34m\u001b[0m\u001b[0;34m\u001b[0m\u001b[0m\n\u001b[1;32m     54\u001b[0m         network = pyphi.network.Network(np.array(TPM), cm=np.array(cm), \n\u001b[0;32m---> 55\u001b[0;31m                     node_labels=tuple(label[data]), purview_cache=None)\n\u001b[0m\u001b[1;32m     56\u001b[0m         \u001b[0;31m# all network of animats; if there is a node not has input and output -> 0\u001b[0m\u001b[0;34m\u001b[0m\u001b[0;34m\u001b[0m\u001b[0;34m\u001b[0m\u001b[0m\n\u001b[1;32m     57\u001b[0m \u001b[0;34m\u001b[0m\u001b[0m\n",
      "\u001b[0;32m~/.anyenv/envs/pyenv/versions/anaconda3-5.1.0/envs/pyphikit/lib/python3.6/site-packages/pyphi/network.py\u001b[0m in \u001b[0;36m__init__\u001b[0;34m(self, tpm, cm, node_labels, purview_cache)\u001b[0m\n\u001b[1;32m     59\u001b[0m     \u001b[0;31m# TODO make tpm also optional when implementing logical network definition\u001b[0m\u001b[0;34m\u001b[0m\u001b[0;34m\u001b[0m\u001b[0;34m\u001b[0m\u001b[0m\n\u001b[1;32m     60\u001b[0m     \u001b[0;32mdef\u001b[0m \u001b[0m__init__\u001b[0m\u001b[0;34m(\u001b[0m\u001b[0mself\u001b[0m\u001b[0;34m,\u001b[0m \u001b[0mtpm\u001b[0m\u001b[0;34m,\u001b[0m \u001b[0mcm\u001b[0m\u001b[0;34m=\u001b[0m\u001b[0;32mNone\u001b[0m\u001b[0;34m,\u001b[0m \u001b[0mnode_labels\u001b[0m\u001b[0;34m=\u001b[0m\u001b[0;32mNone\u001b[0m\u001b[0;34m,\u001b[0m \u001b[0mpurview_cache\u001b[0m\u001b[0;34m=\u001b[0m\u001b[0;32mNone\u001b[0m\u001b[0;34m)\u001b[0m\u001b[0;34m:\u001b[0m\u001b[0;34m\u001b[0m\u001b[0;34m\u001b[0m\u001b[0m\n\u001b[0;32m---> 61\u001b[0;31m         \u001b[0mself\u001b[0m\u001b[0;34m.\u001b[0m\u001b[0m_tpm\u001b[0m\u001b[0;34m,\u001b[0m \u001b[0mself\u001b[0m\u001b[0;34m.\u001b[0m\u001b[0m_tpm_hash\u001b[0m \u001b[0;34m=\u001b[0m \u001b[0mself\u001b[0m\u001b[0;34m.\u001b[0m\u001b[0m_build_tpm\u001b[0m\u001b[0;34m(\u001b[0m\u001b[0mtpm\u001b[0m\u001b[0;34m)\u001b[0m\u001b[0;34m\u001b[0m\u001b[0;34m\u001b[0m\u001b[0m\n\u001b[0m\u001b[1;32m     62\u001b[0m         \u001b[0mself\u001b[0m\u001b[0;34m.\u001b[0m\u001b[0m_cm\u001b[0m\u001b[0;34m,\u001b[0m \u001b[0mself\u001b[0m\u001b[0;34m.\u001b[0m\u001b[0m_cm_hash\u001b[0m \u001b[0;34m=\u001b[0m \u001b[0mself\u001b[0m\u001b[0;34m.\u001b[0m\u001b[0m_build_cm\u001b[0m\u001b[0;34m(\u001b[0m\u001b[0mcm\u001b[0m\u001b[0;34m)\u001b[0m\u001b[0;34m\u001b[0m\u001b[0;34m\u001b[0m\u001b[0m\n\u001b[1;32m     63\u001b[0m         \u001b[0mself\u001b[0m\u001b[0;34m.\u001b[0m\u001b[0m_node_indices\u001b[0m \u001b[0;34m=\u001b[0m \u001b[0mtuple\u001b[0m\u001b[0;34m(\u001b[0m\u001b[0mrange\u001b[0m\u001b[0;34m(\u001b[0m\u001b[0mself\u001b[0m\u001b[0;34m.\u001b[0m\u001b[0msize\u001b[0m\u001b[0;34m)\u001b[0m\u001b[0;34m)\u001b[0m\u001b[0;34m\u001b[0m\u001b[0;34m\u001b[0m\u001b[0m\n",
      "\u001b[0;32m~/.anyenv/envs/pyenv/versions/anaconda3-5.1.0/envs/pyphikit/lib/python3.6/site-packages/pyphi/network.py\u001b[0m in \u001b[0;36m_build_tpm\u001b[0;34m(tpm)\u001b[0m\n\u001b[1;32m     81\u001b[0m         \u001b[0mtpm\u001b[0m \u001b[0;34m=\u001b[0m \u001b[0mnp\u001b[0m\u001b[0;34m.\u001b[0m\u001b[0marray\u001b[0m\u001b[0;34m(\u001b[0m\u001b[0mtpm\u001b[0m\u001b[0;34m)\u001b[0m\u001b[0;34m\u001b[0m\u001b[0;34m\u001b[0m\u001b[0m\n\u001b[1;32m     82\u001b[0m \u001b[0;34m\u001b[0m\u001b[0m\n\u001b[0;32m---> 83\u001b[0;31m         \u001b[0mvalidate\u001b[0m\u001b[0;34m.\u001b[0m\u001b[0mtpm\u001b[0m\u001b[0;34m(\u001b[0m\u001b[0mtpm\u001b[0m\u001b[0;34m,\u001b[0m \u001b[0mcheck_independence\u001b[0m\u001b[0;34m=\u001b[0m\u001b[0mconfig\u001b[0m\u001b[0;34m.\u001b[0m\u001b[0mVALIDATE_CONDITIONAL_INDEPENDENCE\u001b[0m\u001b[0;34m)\u001b[0m\u001b[0;34m\u001b[0m\u001b[0;34m\u001b[0m\u001b[0m\n\u001b[0m\u001b[1;32m     84\u001b[0m \u001b[0;34m\u001b[0m\u001b[0m\n\u001b[1;32m     85\u001b[0m         \u001b[0;31m# Convert to multidimensional state-by-node form\u001b[0m\u001b[0;34m\u001b[0m\u001b[0;34m\u001b[0m\u001b[0;34m\u001b[0m\u001b[0m\n",
      "\u001b[0;32m~/.anyenv/envs/pyenv/versions/anaconda3-5.1.0/envs/pyphikit/lib/python3.6/site-packages/pyphi/validate.py\u001b[0m in \u001b[0;36mtpm\u001b[0;34m(tpm, check_independence)\u001b[0m\n\u001b[1;32m     67\u001b[0m         raise ValueError(\n\u001b[1;32m     68\u001b[0m             \u001b[0;34m'Invalid TPM: Must be either 2-dimensional or multidimensional. '\u001b[0m\u001b[0;34m\u001b[0m\u001b[0;34m\u001b[0m\u001b[0m\n\u001b[0;32m---> 69\u001b[0;31m             '{}'.format(see_tpm_docs))\n\u001b[0m\u001b[1;32m     70\u001b[0m     \u001b[0;32mreturn\u001b[0m \u001b[0;32mTrue\u001b[0m\u001b[0;34m\u001b[0m\u001b[0;34m\u001b[0m\u001b[0m\n\u001b[1;32m     71\u001b[0m \u001b[0;34m\u001b[0m\u001b[0m\n",
      "\u001b[0;31mValueError\u001b[0m: Invalid TPM: Must be either 2-dimensional or multidimensional. See the documentation on TPM conventions and the `pyphi.Network` object for more information on TPM forms."
     ]
    }
   ],
   "source": [
    "genome = []\n",
    "TPM, TPM_gates, cm = [],[],[]\n",
    "n_connection = np.zeros(n_data*n_runs)\n",
    "\n",
    "dec = []\n",
    "label = [['S1','S2','M1','M2','H1','H2'],['S1','S2','M1','M2','H1','H2','H3'],['S1','S2','M1','M2','H1','H2','H3','H4'],['S1','S2','M1','M2','H1','H2','H3','H4','H5'],['S1','S2','M1','M2','H1','H2','H3','H4','H5','H6']]\n",
    "\n",
    "for data in range(n_data):\n",
    "    n_hnodes = data+2\n",
    "    hnodes = [(4,5),(4,5,6),(4,5,6,7),(4,5,6,7,8),(4,5,6,7,8,9)]\n",
    "    for n in range(n_runs):\n",
    "        place = 5*data + n\n",
    "       \n",
    "        \n",
    "    # fitness stateなし\n",
    "    \n",
    "        LODs[data][n]['fitness'] = (LODs[data][n]['correct_AVE']\n",
    "                               /(LODs[data][n]['correct_AVE']+LODs[data][n]['incorrect_AVE']))\n",
    "        #print(LODs[data][n]['fitness'][60])\n",
    "        \n",
    "#     # TPM, TPM_gate, cm\n",
    "       \n",
    "#         genome.append(agency.get_genome(genomes[data], n, agent))\n",
    "# #print(len(genome[4]))\n",
    "\n",
    "#         a, b, c = genome2TPM(genome[place], n_nodes=n_hnodes+4, n_sensors=2, n_motors=2, gate_type='deterministic',states_convention='loli',remove_sensor_motor_effects=True)\n",
    "#         TPM.append(a)\n",
    "#         TPM_gates.append(b)\n",
    "#         cm.append(c) # right?\n",
    "        \n",
    "        \n",
    "        \n",
    "# culculate num of connection\n",
    "# for i in range(n_data*n_runs):\n",
    "#     n_connection[i] = np.count_nonzero(cm[i])\n",
    "\n",
    "        \n",
    "        for j in range(len(brain_activity[0][0][0])): # 2進法 -> 10進法変換 行35,列node数の行列 \n",
    "            num = 0\n",
    "            for k in range(len(brain_activity[0][0][0][0])): # = hnode + 4\n",
    "                num = num + (2 ** k) * actarr[j][k] \n",
    "                num = int(num) # 2進法への変換のためfloat -> int型\n",
    "            dec.append(num)\n",
    "\n",
    "        c = Counter(dec)\n",
    "        prestate = counting3(dec)\n",
    "        \n",
    "        state = []\n",
    "        for i in range(len(prestate)):\n",
    "            state.append(int2binary(prestate[i][0],n_hnodes+4))\n",
    "\n",
    "        # network\n",
    "        # define network for this animat change\n",
    "        network = pyphi.network.Network(np.array(TPM), cm=np.array(cm), \n",
    "                    node_labels=tuple(label[data]), purview_cache=None)\n",
    "        # all network of animats; if there is a node not has input and output -> 0\n",
    "\n",
    "        for i in range(len(state)):\n",
    "            subsystem = pyphi.Subsystem(network, state[i], nodes=hnodes[data])\n",
    "            Phi = pyphi.compute.phi(subsystem)\n",
    "            print(\"Data %d, Run %d, state %d's phi is %d\"%(data, n, i, Phi))\n"
   ]
  },
  {
   "cell_type": "code",
   "execution_count": null,
   "metadata": {},
   "outputs": [],
   "source": [
    "\n",
    "n_connection = np.zeros(n_data*n_runs)\n",
    "for i in range(50):\n",
    "    n_connection[i] = np.count_nonzero(cm[i])\n",
    "n_connection"
   ]
  },
  {
   "cell_type": "code",
   "execution_count": 9,
   "metadata": {},
   "outputs": [
    {
     "data": {
      "text/plain": [
       "[(36, 11), (16, 8), (4, 8)]"
      ]
     },
     "execution_count": 9,
     "metadata": {},
     "output_type": "execute_result"
    }
   ],
   "source": [
    "prestate"
   ]
  },
  {
   "cell_type": "code",
   "execution_count": 13,
   "metadata": {},
   "outputs": [
    {
     "data": {
      "text/plain": [
       "[(4, 34), (0, 1)]"
      ]
     },
     "execution_count": 13,
     "metadata": {},
     "output_type": "execute_result"
    }
   ],
   "source": [
    "c.most_common()"
   ]
  },
  {
   "cell_type": "code",
   "execution_count": null,
   "metadata": {},
   "outputs": [],
   "source": []
  }
 ],
 "metadata": {
  "kernelspec": {
   "display_name": "Python 3",
   "language": "python",
   "name": "python3"
  },
  "language_info": {
   "codemirror_mode": {
    "name": "ipython",
    "version": 3
   },
   "file_extension": ".py",
   "mimetype": "text/x-python",
   "name": "python",
   "nbconvert_exporter": "python",
   "pygments_lexer": "ipython3",
   "version": "3.6.8"
  }
 },
 "nbformat": 4,
 "nbformat_minor": 2
}
